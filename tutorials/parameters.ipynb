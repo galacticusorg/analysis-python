{
 "cells": [
  {
   "cell_type": "markdown",
   "metadata": {},
   "source": [
    "# Working with Galacticus parameters\n",
    "\n",
    "This tutorial demonstrates how to read, store, manipulate and write Galacticus parameters."
   ]
  },
  {
   "cell_type": "code",
   "execution_count": 18,
   "metadata": {
    "collapsed": false
   },
   "outputs": [],
   "source": [
    "# Load the class to read and store the Galacticus parameter set\n",
    "from galacticus.parameters import GalacticusParameters"
   ]
  },
  {
   "cell_type": "code",
   "execution_count": 19,
   "metadata": {
    "collapsed": false
   },
   "outputs": [
    {
     "name": "stdout",
     "output_type": "stream",
     "text": [
      "GalacticusParameters(): Root of XML tree is 'parameters'.\n"
     ]
    }
   ],
   "source": [
    "# Read an example parameter file\n",
    "parametersFile = \"exampleData/snapshotExample.xml\"\n",
    "PARAMS = GalacticusParameters(parametersFile,verbose=True)"
   ]
  },
  {
   "cell_type": "markdown",
   "metadata": {},
   "source": [
    "The **`GalacticusParameters`** class uses the **`xmlTree`** class as the base class and so inherits all of the functionality of that class. One of the first things that the `xmlTree` class does is to construct a dictionary of all the parameter names and the path to that parameter. This is stored as the attribute *map*."
   ]
  },
  {
   "cell_type": "code",
   "execution_count": 20,
   "metadata": {
    "collapsed": false
   },
   "outputs": [
    {
     "name": "stdout",
     "output_type": "stream",
     "text": [
      "coolingTimeMethod --> parameters/coolingTimeMethod\n",
      "treeNodeMethodSpin --> parameters/treeNodeMethodSpin\n",
      "molecularFractionFastKMT09 --> parameters/molecularFractionFastKMT09\n",
      "starFormationSpheroidVelocityExponent --> parameters/starFormationSpheroidVelocityExponent\n",
      "ramPressureStrippingMassLossRateSpheroidsMethod --> parameters/ramPressureStrippingMassLossRateSpheroidsMethod\n",
      "coolingTimeAvailableAgeFactor --> parameters/coolingTimeAvailableAgeFactor\n",
      "accretionDisksADAFMethod --> parameters/accretionDisksMethod/accretionDisksADAFMethod\n",
      "neutrinoNumberEffective --> parameters/transferFunctionMethod/neutrinoNumberEffective\n",
      "stabilityThresholdStellar --> parameters/stabilityThresholdStellar\n",
      "mergerTreeOutput --> parameters/mergerTreeOutput\n",
      "efficiencyRadiation --> parameters/accretionDisksMethod/accretionDisksADAFMethod/efficiencyRadiation\n",
      "stabilityThresholdGaseous --> parameters/stabilityThresholdGaseous\n",
      "diskOutflowVelocity --> parameters/diskOutflowVelocity\n",
      "coolingTimeSimpleDegreesOfFreedom --> parameters/coolingTimeSimpleDegreesOfFreedom\n",
      "darkMatterProfileMinimumConcentration --> parameters/darkMatterProfileMinimumConcentration\n",
      "outputDensityContrastHaloLoaded --> parameters/outputDensityContrastHaloLoaded\n",
      "parameters --> parameters\n",
      "timestepSimpleRelative --> parameters/timestepSimpleRelative\n",
      "mergerTreeReadAllowSubhaloPromotions --> parameters/mergerTreeReadAllowSubhaloPromotions\n",
      "formatVersion --> parameters/formatVersion\n",
      "starFormationRateSurfaceDensityDisksMethod --> parameters/starFormationRateSurfaceDensityDisksMethod\n",
      "luminosityFilter --> parameters/luminosityFilter\n",
      "powerSpectrumPrimordialTransferredMethod --> parameters/powerSpectrumPrimordialTransferredMethod\n",
      "starFormationFeedbackSpheroidsMethod --> parameters/starFormationFeedbackSpheroidsMethod\n",
      "adiabaticContractionGnedinOmega --> parameters/adiabaticContractionGnedinOmega\n",
      "coolingSpecificAngularMomentumMethod --> parameters/coolingSpecificAngularMomentumMethod\n",
      "randomSpinResetMassFactor --> parameters/randomSpinResetMassFactor\n",
      "hotHaloOutflowStrippingEfficiency --> parameters/hotHaloOutflowStrippingEfficiency\n",
      "metaCollectTimingData --> parameters/metaCollectTimingData\n",
      "coolingRateMethod --> parameters/coolingRateMethod\n",
      "treeNodeMethodSpheroid --> parameters/treeNodeMethodSpheroid\n",
      "wavenumberReference --> parameters/powerSpectrumPrimordialMethod/wavenumberReference\n",
      "outputMergerReferences --> parameters/mergerTreeOutput/outputMergerReferences\n",
      "hotHaloRamPressureStrippingTimescaleMethod --> parameters/hotHaloRamPressureStrippingTimescaleMethod\n",
      "blackHoleSeedMass --> parameters/blackHoleSeedMass\n",
      "treeNodeMethodPosition --> parameters/treeNodeMethodPosition\n",
      "darkMatterProfileMethod --> parameters/darkMatterProfileMethod\n",
      "sigma_8 --> parameters/cosmologicalMassVarianceMethod/sigma_8\n",
      "luminosityType --> parameters/luminosityType\n",
      "luminosityRedshift --> parameters/luminosityRedshift\n",
      "treeBranchingMethod --> parameters/treeBranchingMethod\n",
      "accretionDisksShakuraSunyaevMethod --> parameters/accretionDisksMethod/accretionDisksShakuraSunyaevMethod\n",
      "mergerTreeReadPresetSubhaloIndices --> parameters/mergerTreeReadPresetSubhaloIndices\n",
      "spheroidEnergeticOutflowMassRate --> parameters/spheroidEnergeticOutflowMassRate\n",
      "treeNodeMethodDarkMatterProfile --> parameters/treeNodeMethodDarkMatterProfile\n",
      "OmegaDarkEnergy --> parameters/cosmologyParametersMethod/OmegaDarkEnergy\n",
      "mergerTreeReadPresetScaleRadiiMinimumMass --> parameters/mergerTreeReadPresetScaleRadiiMinimumMass\n",
      "bondiHoyleAccretionEnhancementHotHalo --> parameters/bondiHoyleAccretionEnhancementHotHalo\n",
      "mergerTreeReadOutputTimeSnapTolerance --> parameters/mergerTreeReadOutputTimeSnapTolerance\n",
      "odeToleranceRelative --> parameters/odeToleranceRelative\n",
      "starFormationFrequencyKMT09 --> parameters/starFormationFrequencyKMT09\n",
      "diskMassDistribution --> parameters/diskMassDistribution\n",
      "cosmologicalMassVarianceMethod --> parameters/cosmologicalMassVarianceMethod\n",
      "imfSelectionFixed --> parameters/imfSelectionFixed\n",
      "mergerTreeReadPresetMergerTimes --> parameters/mergerTreeReadPresetMergerTimes\n",
      "treeNodeMethodBlackHole --> parameters/treeNodeMethodBlackHole\n",
      "blackHoleWindEfficiencyScalesWithRadiativeEfficiency --> parameters/blackHoleWindEfficiencyScalesWithRadiativeEfficiency\n",
      "satelliteMergingTimescalesMethod --> parameters/satelliteMergingTimescalesMethod\n",
      "energyOption --> parameters/accretionDisksMethod/accretionDisksADAFMethod/energyOption\n",
      "hotHaloAngularMomentumLossFraction --> parameters/hotHaloAngularMomentumLossFraction\n",
      "accretionHaloMethod --> parameters/accretionHaloMethod\n",
      "coolingRadiusMethod --> parameters/coolingRadiusMethod\n",
      "bondiHoyleAccretionTemperatureSpheroid --> parameters/bondiHoyleAccretionTemperatureSpheroid\n",
      "index --> parameters/powerSpectrumPrimordialMethod/index\n",
      "satelliteMergingMassMovementsMethod --> parameters/satelliteMergingMassMovementsMethod\n",
      "efficiencyRadiationType --> parameters/accretionDisksMethod/accretionDisksADAFMethod/efficiencyRadiationType\n",
      "outputDensityContrastData --> parameters/outputDensityContrastData\n",
      "galacticStructureRadiusSolverMethod --> parameters/galacticStructureRadiusSolverMethod\n",
      "criticalOverdensityMethod --> parameters/criticalOverdensityMethod\n",
      "version --> parameters/version\n",
      "imfChabrierYieldInstantaneous --> parameters/imfChabrierYieldInstantaneous\n",
      "tidalStrippingMassLossRateDisksMethod --> parameters/tidalStrippingMassLossRateDisksMethod\n",
      "timestepHostAbsolute --> parameters/timestepHostAbsolute\n",
      "bondiHoyleAccretionHotModeOnly --> parameters/bondiHoyleAccretionHotModeOnly\n",
      "viscosityOption --> parameters/accretionDisksMethod/accretionDisksADAFMethod/viscosityOption\n",
      "treeNodeMethodBasic --> parameters/treeNodeMethodBasic\n",
      "treeNodeMethodDisk --> parameters/treeNodeMethodDisk\n",
      "outputVirialData --> parameters/outputVirialData\n",
      "outputDensityContrastValues --> parameters/outputDensityContrastValues\n",
      "minorMergerGasMovesTo --> parameters/minorMergerGasMovesTo\n",
      "temperatureCMB --> parameters/cosmologyParametersMethod/temperatureCMB\n",
      "starFormationTimescaleDisksMethod --> parameters/starFormationTimescaleDisksMethod\n",
      "mergerRemnantSizeOrbitalEnergy --> parameters/mergerRemnantSizeOrbitalEnergy\n",
      "timestepHostRelative --> parameters/timestepHostRelative\n",
      "mergerTreeOutputReferences --> parameters/mergerTreeOutputReferences\n",
      "spheroidMassToleranceAbsolute --> parameters/spheroidMassToleranceAbsolute\n",
      "mergerTreeReadPresetSpins --> parameters/mergerTreeReadPresetSpins\n",
      "reionizationSuppressionVelocity --> parameters/reionizationSuppressionVelocity\n",
      "accretionDisksMethod --> parameters/accretionDisksMethod\n",
      "scaleADAFRadiativeEfficiency --> parameters/accretionDisksMethod/scaleADAFRadiativeEfficiency\n",
      "blackHoleWindEfficiency --> parameters/blackHoleWindEfficiency\n",
      "hotHaloExcessHeatDrivesOutflow --> parameters/hotHaloExcessHeatDrivesOutflow\n",
      "spheroidAngularMomentumAtScaleRadius --> parameters/spheroidAngularMomentumAtScaleRadius\n",
      "starFormationTimescaleSpheroidsMethod --> parameters/starFormationTimescaleSpheroidsMethod\n",
      "treeNodeMethodHotHalo --> parameters/treeNodeMethodHotHalo\n",
      "stellarPopulationSpectraPostprocessDefaultMethods --> parameters/stellarPopulationSpectraPostprocessDefaultMethods\n",
      "virialOrbitMethod --> parameters/virialOrbitMethod\n",
      "hotHaloRamPressureStrippingMethod --> parameters/hotHaloRamPressureStrippingMethod\n",
      "darkMatterProfileConcentrationMethod --> parameters/darkMatterProfileConcentrationMethod\n",
      "blackHoleBinaryMergersMethod --> parameters/blackHoleBinaryMergersMethod\n",
      "diskMassToleranceAbsolute --> parameters/diskMassToleranceAbsolute\n",
      "satelliteOrbitStoreOrbitalParameters --> parameters/satelliteOrbitStoreOrbitalParameters\n",
      "stellarPopulationSpectraMethod --> parameters/stellarPopulationSpectraMethod\n",
      "spheroidOutflowExponent --> parameters/spheroidOutflowExponent\n",
      "lambda0 --> parameters/haloSpinDistributionMethod/lambda0\n",
      "majorMergerMassRatio --> parameters/majorMergerMassRatio\n",
      "coolingFunctionMethod --> parameters/coolingFunctionMethod\n",
      "luminosityPostprocessSet --> parameters/luminosityPostprocessSet\n",
      "spheroidOutflowVelocity --> parameters/spheroidOutflowVelocity\n",
      "mergerTreeReadAllowBranchJumps --> parameters/mergerTreeReadAllowBranchJumps\n",
      "mergerTreeConstructMethod --> parameters/mergerTreeConstructMethod\n",
      "cosmologyParametersMethod --> parameters/cosmologyParametersMethod\n",
      "mergeProbability --> parameters/mergerTreeBuilderMethod/mergeProbability\n",
      "nodeMergersMethod --> parameters/nodeMergersMethod\n",
      "odeToleranceAbsolute --> parameters/odeToleranceAbsolute\n",
      "accretionLimit --> parameters/mergerTreeBuilderMethod/accretionLimit\n",
      "hotHaloCoreRadiusOverVirialRadius --> parameters/hotHaloCoreRadiusOverVirialRadius\n",
      "diskOutputStarFormationRate --> parameters/diskOutputStarFormationRate\n",
      "outputMergerTrees --> parameters/mergerTreeOutput/outputMergerTrees\n",
      "haloMassFunctionMethod --> parameters/haloMassFunctionMethod\n",
      "blackHoleHeatsHotHalo --> parameters/blackHoleHeatsHotHalo\n",
      "hotHaloRamPressureForceMethod --> parameters/hotHaloRamPressureForceMethod\n",
      "transferFunctionMethod --> parameters/transferFunctionMethod\n",
      "diskOutflowExponent --> parameters/diskOutflowExponent\n",
      "mergerTreeBuilderMethod --> parameters/mergerTreeBuilderMethod\n",
      "hotHaloOutflowReturnRate --> parameters/hotHaloOutflowReturnRate\n",
      "modifiedPressSchechterGamma2 --> parameters/modifiedPressSchechterGamma2\n",
      "virialDensityContrastPercolationLinkingLength --> parameters/virialDensityContrastPercolationLinkingLength\n",
      "mergerTreeReadFileName --> parameters/mergerTreeReadFileName\n",
      "hotHaloMassDistributionMethod --> parameters/hotHaloMassDistributionMethod\n",
      "modifiedPressSchechterFirstOrderAccuracy --> parameters/modifiedPressSchechterFirstOrderAccuracy\n",
      "allTreesExistAtFinalTime --> parameters/allTreesExistAtFinalTime\n",
      "linearGrowthMethod --> parameters/linearGrowthMethod\n",
      "coolingMeanAngularMomentumFrom --> parameters/coolingMeanAngularMomentumFrom\n",
      "hotHaloTrackStrippedGas --> parameters/hotHaloTrackStrippedGas\n",
      "OmegaBaryon --> parameters/cosmologyParametersMethod/OmegaBaryon\n",
      "treeNodeMethodSatellite --> parameters/treeNodeMethodSatellite\n",
      "haloSpinDistributionMethod --> parameters/haloSpinDistributionMethod\n",
      "imfSelectionMethod --> parameters/imfSelectionMethod\n",
      "coolingTimeAvailableMethod --> parameters/coolingTimeAvailableMethod\n",
      "neutrinoMassSummed --> parameters/transferFunctionMethod/neutrinoMassSummed\n",
      "mergerTreeReadPresetSubhaloMasses --> parameters/mergerTreeReadPresetSubhaloMasses\n",
      "accretionRateThinDiskMinimum --> parameters/accretionDisksMethod/accretionRateThinDiskMinimum\n",
      "outputRedshifts --> parameters/outputRedshifts\n",
      "stellarPopulationSpectraPostprocessRecentMethods --> parameters/stellarPopulationSpectraPostprocessRecentMethods\n",
      "adiabaticIndex --> parameters/accretionDisksMethod/accretionDisksADAFMethod/adiabaticIndex\n",
      "stellarPopulationPropertiesMethod --> parameters/stellarPopulationPropertiesMethod\n",
      "outputDensityContrastDataDarkOnly --> parameters/outputDensityContrastDataDarkOnly\n",
      "bondiHoyleAccretionEnhancementSpheroid --> parameters/bondiHoyleAccretionEnhancementSpheroid\n",
      "mergerTreeReadPresetScaleRadii --> parameters/mergerTreeReadPresetScaleRadii\n",
      "cosmologyFunctionsMethod --> parameters/cosmologyFunctionsMethod\n",
      "satelliteMergingRemnantSizeMethod --> parameters/satelliteMergingRemnantSizeMethod\n",
      "OmegaMatter --> parameters/cosmologyParametersMethod/OmegaMatter\n",
      "satellitesTidalFieldMethod --> parameters/satellitesTidalFieldMethod\n",
      "outputHalfMassData --> parameters/outputHalfMassData\n",
      "mergerTreeReadPresetMergerNodes --> parameters/mergerTreeReadPresetMergerNodes\n",
      "ramPressureStrippingMassLossRateDisksMethod --> parameters/ramPressureStrippingMassLossRateDisksMethod\n",
      "reionizationSuppressionRedshift --> parameters/reionizationSuppressionRedshift\n",
      "virialDensityContrastMethod --> parameters/virialDensityContrastMethod\n",
      "zeroCoolingRateAboveVelocity --> parameters/zeroCoolingRateAboveVelocity\n",
      "alpha --> parameters/haloSpinDistributionMethod/alpha\n",
      "tidalStrippingMassLossRateSpheroidsMethod --> parameters/tidalStrippingMassLossRateSpheroidsMethod\n",
      "adiabaticContractionGnedinA --> parameters/adiabaticContractionGnedinA\n",
      "starFormationSpheroidMinimumTimescale --> parameters/starFormationSpheroidMinimumTimescale\n",
      "running --> parameters/powerSpectrumPrimordialMethod/running\n",
      "spheroidOutputStarFormationRate --> parameters/spheroidOutputStarFormationRate\n",
      "modifiedPressSchechterG0 --> parameters/modifiedPressSchechterG0\n",
      "powerSpectrumPrimordialMethod --> parameters/powerSpectrumPrimordialMethod\n",
      "starveSatellites --> parameters/starveSatellites\n",
      "mergingTimescaleMultiplier --> parameters/mergingTimescaleMultiplier\n",
      "barInstabilityMethod --> parameters/barInstabilityMethod\n",
      "coolingRotationVelocityFrom --> parameters/coolingRotationVelocityFrom\n",
      "starFormationSpheroidEfficiency --> parameters/starFormationSpheroidEfficiency\n",
      "HubbleConstant --> parameters/cosmologyParametersMethod/HubbleConstant\n",
      "timestepSimpleAbsolute --> parameters/timestepSimpleAbsolute\n",
      "spheroidMassDistribution --> parameters/spheroidMassDistribution\n",
      "starFormationFeedbackDisksMethod --> parameters/starFormationFeedbackDisksMethod\n",
      "starFormationDiskMinimumTimescale --> parameters/starFormationDiskMinimumTimescale\n",
      "accretionRateThinDiskMaximum --> parameters/accretionDisksMethod/accretionRateThinDiskMaximum\n",
      "blackHoleOutputAccretion --> parameters/blackHoleOutputAccretion\n",
      "hotHaloTemperatureProfileMethod --> parameters/hotHaloTemperatureProfileMethod\n",
      "imfChabrierRecycledInstantaneous --> parameters/imfChabrierRecycledInstantaneous\n",
      "molecularComplexClumpingFactorKMT09 --> parameters/molecularComplexClumpingFactorKMT09\n",
      "modifiedPressSchechterGamma1 --> parameters/modifiedPressSchechterGamma1\n"
     ]
    }
   ],
   "source": [
    "# View the map -- print the list of parameters and the path to that parameter\n",
    "for key in PARAMS.map.keys():\n",
    "        print(key+\" --> \"+PARAMS.map[key])"
   ]
  },
  {
   "cell_type": "markdown",
   "metadata": {},
   "source": [
    "We can use the **`getParameter`** function in the `GalacticusParameters` class to extract the value for any parameter."
   ]
  },
  {
   "cell_type": "code",
   "execution_count": 21,
   "metadata": {
    "collapsed": false
   },
   "outputs": [
    {
     "name": "stdout",
     "output_type": "stream",
     "text": [
      "coolingTimeMethod = simple\n",
      "diskOutflowVelocity = 250.0\n",
      "outputRedshifts = 0.0 1.0 2.0\n"
     ]
    }
   ],
   "source": [
    "# Extract values for some example parameters\n",
    "names = [\"coolingTimeMethod\",\"diskOutflowVelocity\",\"outputRedshifts\"]\n",
    "for name in names:\n",
    "    value = PARAMS.getParameter(name)\n",
    "    print(name+\" = \"+str(value))"
   ]
  },
  {
   "cell_type": "markdown",
   "metadata": {},
   "source": [
    "We can use the **`setParameter`** function in the `GalacticusParameters` class to update a parameter (or set the parameter if it is not currently found in the file."
   ]
  },
  {
   "cell_type": "code",
   "execution_count": 22,
   "metadata": {
    "collapsed": false
   },
   "outputs": [
    {
     "name": "stdout",
     "output_type": "stream",
     "text": [
      "HubbleConstant is stored at path: parameters/cosmologyParametersMethod/HubbleConstant\n"
     ]
    }
   ],
   "source": [
    "# As an example, let's update the value for the Hubble constant. Firstly let's find out where the Hubble constant\n",
    "# parameter is stored.\n",
    "name = \"HubbleConstant\"\n",
    "path = PARAMS.map[name]\n",
    "print(name+\" is stored at path: \"+path)"
   ]
  },
  {
   "cell_type": "code",
   "execution_count": 23,
   "metadata": {
    "collapsed": false
   },
   "outputs": [
    {
     "name": "stdout",
     "output_type": "stream",
     "text": [
      "HubbleConstant = 73.0\n"
     ]
    }
   ],
   "source": [
    "# Secondly let's see what value is stored for the Hubble constant.\n",
    "H = PARAMS.getParameter(name)\n",
    "print(name+\" = \"+str(H))"
   ]
  },
  {
   "cell_type": "code",
   "execution_count": 24,
   "metadata": {
    "collapsed": false
   },
   "outputs": [],
   "source": [
    "# Let's now reset the value to H = 100. We use the setParameter function. The 'parent' keyword is simply the \n",
    "# path to the parameter and the 'selfCreate' keyword simply instructs the function to build that path if it \n",
    "# does not yet exist.\n",
    "PARAMS.setParameter(name,100.0,parent=path.replace(name,\"\"),selfCreate=True)"
   ]
  },
  {
   "cell_type": "code",
   "execution_count": 25,
   "metadata": {
    "collapsed": false
   },
   "outputs": [
    {
     "name": "stdout",
     "output_type": "stream",
     "text": [
      "HubbleConstant is stored at path: parameters/cosmologyParametersMethod/HubbleConstant\n",
      "HubbleConstant = 100.0\n"
     ]
    }
   ],
   "source": [
    "# Now, let's check that the Hubble constant has been updated.\n",
    "name = \"HubbleConstant\"\n",
    "path = PARAMS.map[name]\n",
    "print(name+\" is stored at path: \"+path)\n",
    "H = None\n",
    "H = PARAMS.getParameter(name)\n",
    "print(name+\" = \"+str(H))"
   ]
  },
  {
   "cell_type": "code",
   "execution_count": 26,
   "metadata": {
    "collapsed": false
   },
   "outputs": [],
   "source": [
    "# Now, let's modify the path to the HubbleConstant. First, let's delete the current Hubble constant parameter. \n",
    "# We can do this using the removeParameter() function.\n",
    "PARAMS.removeParameter(name)"
   ]
  },
  {
   "cell_type": "code",
   "execution_count": 27,
   "metadata": {
    "collapsed": false
   },
   "outputs": [
    {
     "name": "stdout",
     "output_type": "stream",
     "text": [
      "H0 parameters/cosmologyParametersMethod\n",
      "parameters/cosmologyParametersMethod\n"
     ]
    }
   ],
   "source": [
    "# Next we can update the parameter with the new value.\n",
    "PARAMS.setParameter(\"H0\",100.0,parent=\"parameters/cosmologyParametersMethod\",selfCreate=True)"
   ]
  },
  {
   "cell_type": "code",
   "execution_count": 28,
   "metadata": {
    "collapsed": false
   },
   "outputs": [
    {
     "name": "stdout",
     "output_type": "stream",
     "text": [
      "'H0' found at path: parameters/cosmologyParametersMethod/H0\n",
      "H0 = 100.0\n"
     ]
    }
   ],
   "source": [
    "# Check the new value for the parameter.\n",
    "path = PARAMS.map[\"H0\"]\n",
    "H0 = PARAMS.getParameter(\"H0\")\n",
    "print(\"'H0' found at path: \"+path)\n",
    "print(\"H0 = \"+str(H0))"
   ]
  },
  {
   "cell_type": "markdown",
   "metadata": {},
   "source": [
    "Finally, we can use the **`writeToFile`** function in **`xmlTree`** to write the new parameter tree to a file."
   ]
  },
  {
   "cell_type": "code",
   "execution_count": 29,
   "metadata": {
    "collapsed": true
   },
   "outputs": [],
   "source": [
    "# Write new parameters to file\n",
    "PARAMS.writeToFile(\"parametersDemo.xml\")"
   ]
  },
  {
   "cell_type": "code",
   "execution_count": null,
   "metadata": {
    "collapsed": true
   },
   "outputs": [],
   "source": []
  }
 ],
 "metadata": {
  "kernelspec": {
   "display_name": "Python 2",
   "language": "python",
   "name": "python2"
  },
  "language_info": {
   "codemirror_mode": {
    "name": "ipython",
    "version": 2
   },
   "file_extension": ".py",
   "mimetype": "text/x-python",
   "name": "python",
   "nbconvert_exporter": "python",
   "pygments_lexer": "ipython2",
   "version": "2.7.11"
  }
 },
 "nbformat": 4,
 "nbformat_minor": 0
}
