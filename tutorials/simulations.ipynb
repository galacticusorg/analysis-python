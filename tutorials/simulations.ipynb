{
 "cells": [
  {
   "cell_type": "markdown",
   "metadata": {},
   "source": [
    "# Working with simulations\n",
    "\n",
    "This tutorial demonstrates how to load a simulation specifications file from the Galacticus datasets and extract snapshot/redshift information. For this tutorial you will need to have the [Galacticus datasets repository](https://bitbucket.org/galacticusdev/datasets/) downloaded. \n",
    "\n",
    "Simulations specifications files are stored in the **`static/simulations`** subdirectory of the Galacticus datasets repository. For this python package to locate the datasets repository, you will need to have set an environment variable **GALACTICUS_DATASETS** with the path to the datasets repository."
   ]
  },
  {
   "cell_type": "code",
   "execution_count": 1,
   "metadata": {
    "collapsed": false
   },
   "outputs": [
    {
     "name": "stdout",
     "output_type": "stream",
     "text": [
      "The datasets are stored here: /Users/amerson/codes/Galacticus/datasets/\n"
     ]
    }
   ],
   "source": [
    "# Let's check to see where the datasets are stored.\n",
    "import os\n",
    "print(\"The datasets are stored here: \"+os.environ[\"GALACTICUS_DATASETS\"])"
   ]
  },
  {
   "cell_type": "markdown",
   "metadata": {},
   "source": [
    "To load a simulation parameter file we create an instance of the **`Simulation`** class, providing the class with the name of the simulation. This will create the class with the simulation specifications stored as attributes."
   ]
  },
  {
   "cell_type": "code",
   "execution_count": 2,
   "metadata": {
    "collapsed": false
   },
   "outputs": [
    {
     "name": "stderr",
     "output_type": "stream",
     "text": [
      "/Users/amerson/anaconda/lib/python2.7/site-packages/galacticus-0.1-py2.7.egg/galacticus/__init__.py:18: UserWarning: WARNING! No path specified for Galacticus source code.\n",
      "Specify the path in your environment variables using the variable name 'GALACTICUS_ROOT'.\n",
      "  warnings.warn(warningString)\n"
     ]
    }
   ],
   "source": [
    "# Load the Simulation function\n",
    "from galacticus.simulations import Simulation"
   ]
  },
  {
   "cell_type": "markdown",
   "metadata": {},
   "source": [
    "In this demonstration we will load the specifications for the *Millennium Simulation*."
   ]
  },
  {
   "cell_type": "code",
   "execution_count": 3,
   "metadata": {
    "collapsed": false
   },
   "outputs": [],
   "source": [
    "SIM = Simulation(\"millennium\")"
   ]
  },
  {
   "cell_type": "code",
   "execution_count": 4,
   "metadata": {
    "collapsed": false
   },
   "outputs": [
    {
     "name": "stdout",
     "output_type": "stream",
     "text": [
      "OmegaM = 0.25\n",
      "Hubble = 73.0\n",
      "h = 0.73\n",
      "Box size = [500.0, 500.0, 500.0] Mpc/h\n"
     ]
    }
   ],
   "source": [
    "# Note we can access the specifications using the class attributes.\n",
    "print(\"OmegaM = \"+str(SIM.omega0))\n",
    "print(\"Hubble = \"+str(SIM.H0))\n",
    "print(\"h = \"+str(SIM.h0))\n",
    "print(\"Box size = \"+str(SIM.box.size)+\" \"+SIM.box.units)"
   ]
  },
  {
   "cell_type": "code",
   "execution_count": 5,
   "metadata": {
    "collapsed": false
   },
   "outputs": [
    {
     "name": "stdout",
     "output_type": "stream",
     "text": [
      "-----------------------------------------------------------------\n",
      " SPECIFICATIONS: Millennium\n",
      "            BOX SIZE        = [500.0, 500.0, 500.0] Mpc/h\n",
      "            NUM. PARTICLES  = 10077696000\n",
      "            PARTICLE MASS   = 860656700.0 Msol/h\n",
      "            MIN. REDSHIFT   = 0.0\n",
      "       Cosmology:\n",
      "            OMEGA_MATTER    = 0.25\n",
      "            OMEGA_VACUUM    = 0.75\n",
      "            HUBBLE PARAM.   = 0.73\n",
      "            OMEGA_BARYON    = 0.045\n",
      "            SIGMA_8         = 0.9\n",
      "            POWER SPEC.IND. = 1.0\n",
      "-----------------------------------------------------------------\n"
     ]
    }
   ],
   "source": [
    "# WE can print a summary of the specifications using:\n",
    "SIM.specifications()"
   ]
  },
  {
   "cell_type": "code",
   "execution_count": 6,
   "metadata": {
    "collapsed": false
   },
   "outputs": [
    {
     "name": "stdout",
     "output_type": "stream",
     "text": [
      "{'box': <galacticus.simulations.SimulationBox object at 0x1806f311d0>, 'h0': 0.73, 'verbose': False, 'H0': 73.0, 'temperatureCMB': 2.726, 'omegaB': 0.045, 'particles': <galacticus.simulations.SimulationParticles object at 0x1806f3cb10>, 'sigma8': 0.9, 'ns': 1.0, 'lambda0': 0.75, 'omega0': 0.25, 'snapshots': rec.array([(7, 15.343074), (8, 14.085914), (9, 12.94078), (10, 11.89657),\n",
      " (11, 10.943864), (12, 10.073461), (13, 9.277915), (14, 8.549913),\n",
      " (15, 7.883204), (16, 7.272188), (17, 6.711587), (18, 6.196833),\n",
      " (19, 5.723864), (20, 5.288834), (21, 4.888449), (22, 4.519556),\n",
      " (23, 4.179469), (24, 3.865683), (25, 3.575905), (26, 3.308098),\n",
      " (27, 3.060419), (28, 2.831183), (29, 2.618862), (30, 2.422044),\n",
      " (31, 2.239485), (32, 2.070027), (33, 1.912633), (34, 1.766336),\n",
      " (35, 1.630271), (36, 1.503637), (37, 1.385718), (38, 1.275846),\n",
      " (39, 1.173417), (40, 1.077875), (41, 0.988708), (42, 0.905462),\n",
      " (43, 0.827699), (44, 0.755036), (45, 0.687109), (46, 0.62359),\n",
      " (47, 0.564177), (48, 0.508591), (49, 0.456577), (50, 0.407899),\n",
      " (51, 0.36234), (52, 0.319703), (53, 0.279802), (54, 0.242469),\n",
      " (55, 0.207549), (56, 0.174898), (57, 0.144383), (58, 0.115883),\n",
      " (59, 0.089288), (60, 0.064493), (61, 0.041403), (62, 0.019933), (63, 0.0)], \n",
      "          dtype=[('index', '<i8'), ('z', '<f8')]), 'name': 'Millennium'}\n"
     ]
    }
   ],
   "source": [
    "# You can view all of the available attributes using:\n",
    "print(SIM.__dict__)"
   ]
  },
  {
   "cell_type": "code",
   "execution_count": 7,
   "metadata": {
    "collapsed": false
   },
   "outputs": [
    {
     "name": "stdout",
     "output_type": "stream",
     "text": [
      "{'units': 'Mpc/h', 'periodic': True, 'size': [500.0, 500.0, 500.0]}\n",
      "{'units': 'Msol/h', 'mass': 860656700.0, 'number': '10077696000'}\n"
     ]
    }
   ],
   "source": [
    "# The simulation box size and particle data are stored as sub-classes. You can view the available attributes using:\n",
    "print(SIM.box.__dict__)\n",
    "print(SIM.particles.__dict__)"
   ]
  },
  {
   "cell_type": "markdown",
   "metadata": {},
   "source": [
    "The simulation box subclass additionally has a function to allow wrap around of positions (assuming that the simulation is periodic)."
   ]
  },
  {
   "cell_type": "code",
   "execution_count": 8,
   "metadata": {
    "collapsed": false
   },
   "outputs": [
    {
     "name": "stdout",
     "output_type": "stream",
     "text": [
      "z limits = 251.907500801 - 744.598573488\n"
     ]
    }
   ],
   "source": [
    "import numpy as np\n",
    "x = np.random.rand(50)*SIM.box.size[0]\n",
    "y = np.random.rand(50)*SIM.box.size[1]\n",
    "z = np.random.rand(50)*SIM.box.size[2]\n",
    "# Offset z by half a box size\n",
    "z += SIM.box.size[2]/2.0\n",
    "print(\"z limits = \"+str(z.min())+\" - \"+str(z.max()))"
   ]
  },
  {
   "cell_type": "code",
   "execution_count": 9,
   "metadata": {
    "collapsed": false
   },
   "outputs": [
    {
     "name": "stdout",
     "output_type": "stream",
     "text": [
      "z limits = 24.8798302489 - 491.868117761\n"
     ]
    }
   ],
   "source": [
    "x,y,z = SIM.box.wrap(x,y,z)\n",
    "# Now print the new z range\n",
    "print(\"z limits = \"+str(z.min())+\" - \"+str(z.max()))"
   ]
  },
  {
   "cell_type": "markdown",
   "metadata": {},
   "source": [
    " The `Simulation` class has functions to be able to query the snapshot redshifts of the simulation, such that we can return the redshift of a given snapshot, or find the snapshot that is nearest to a user-specified redshift."
   ]
  },
  {
   "cell_type": "code",
   "execution_count": 10,
   "metadata": {
    "collapsed": false
   },
   "outputs": [
    {
     "name": "stdout",
     "output_type": "stream",
     "text": [
      "Snapshot 7 --> z = 15.343074\n",
      "Snapshot 8 --> z = 14.085914\n",
      "Snapshot 9 --> z = 12.94078\n",
      "Snapshot 10 --> z = 11.89657\n",
      "Snapshot 11 --> z = 10.943864\n",
      "Snapshot 12 --> z = 10.073461\n",
      "Snapshot 13 --> z = 9.277915\n",
      "Snapshot 14 --> z = 8.549913\n",
      "Snapshot 15 --> z = 7.883204\n",
      "Snapshot 16 --> z = 7.272188\n",
      "Snapshot 17 --> z = 6.711587\n",
      "Snapshot 18 --> z = 6.196833\n",
      "Snapshot 19 --> z = 5.723864\n",
      "Snapshot 20 --> z = 5.288834\n",
      "Snapshot 21 --> z = 4.888449\n",
      "Snapshot 22 --> z = 4.519556\n",
      "Snapshot 23 --> z = 4.179469\n",
      "Snapshot 24 --> z = 3.865683\n",
      "Snapshot 25 --> z = 3.575905\n",
      "Snapshot 26 --> z = 3.308098\n",
      "Snapshot 27 --> z = 3.060419\n",
      "Snapshot 28 --> z = 2.831183\n",
      "Snapshot 29 --> z = 2.618862\n",
      "Snapshot 30 --> z = 2.422044\n",
      "Snapshot 31 --> z = 2.239485\n",
      "Snapshot 32 --> z = 2.070027\n",
      "Snapshot 33 --> z = 1.912633\n",
      "Snapshot 34 --> z = 1.766336\n",
      "Snapshot 35 --> z = 1.630271\n",
      "Snapshot 36 --> z = 1.503637\n",
      "Snapshot 37 --> z = 1.385718\n",
      "Snapshot 38 --> z = 1.275846\n",
      "Snapshot 39 --> z = 1.173417\n",
      "Snapshot 40 --> z = 1.077875\n",
      "Snapshot 41 --> z = 0.988708\n",
      "Snapshot 42 --> z = 0.905462\n",
      "Snapshot 43 --> z = 0.827699\n",
      "Snapshot 44 --> z = 0.755036\n",
      "Snapshot 45 --> z = 0.687109\n",
      "Snapshot 46 --> z = 0.62359\n",
      "Snapshot 47 --> z = 0.564177\n",
      "Snapshot 48 --> z = 0.508591\n",
      "Snapshot 49 --> z = 0.456577\n",
      "Snapshot 50 --> z = 0.407899\n",
      "Snapshot 51 --> z = 0.36234\n",
      "Snapshot 52 --> z = 0.319703\n",
      "Snapshot 53 --> z = 0.279802\n",
      "Snapshot 54 --> z = 0.242469\n",
      "Snapshot 55 --> z = 0.207549\n",
      "Snapshot 56 --> z = 0.174898\n",
      "Snapshot 57 --> z = 0.144383\n",
      "Snapshot 58 --> z = 0.115883\n",
      "Snapshot 59 --> z = 0.089288\n",
      "Snapshot 60 --> z = 0.064493\n",
      "Snapshot 61 --> z = 0.041403\n",
      "Snapshot 62 --> z = 0.019933\n",
      "Snapshot 63 --> z = 0.0\n"
     ]
    }
   ],
   "source": [
    "# First, let's print out what the redshifts of the snapshots.\n",
    "for i in range(len(SIM.snapshots.z)):\n",
    "    print(\"Snapshot \"+str(SIM.snapshots.index[i])+\" --> z = \"+str(SIM.snapshots.z[i]))"
   ]
  },
  {
   "cell_type": "code",
   "execution_count": 11,
   "metadata": {
    "collapsed": false
   },
   "outputs": [
    {
     "name": "stdout",
     "output_type": "stream",
     "text": [
      "Snapshot 60 has redshift = 0.064493\n",
      "Snapshots 32,48,60 have redshift = [ 2.070027  0.508591  0.064493]\n"
     ]
    }
   ],
   "source": [
    "# Now let's use the redshift function to return the redshift of a given snapshot.\n",
    "print(\"Snapshot 60 has redshift = \"+str(SIM.redshift(60)))\n",
    "print(\"Snapshots 32,48,60 have redshift = \"+str(SIM.redshift([32,48,60])))"
   ]
  },
  {
   "cell_type": "code",
   "execution_count": 12,
   "metadata": {
    "collapsed": false
   },
   "outputs": [
    {
     "name": "stdout",
     "output_type": "stream",
     "text": [
      "Snapshots 63,100 have redshift = [  0.  nan]\n",
      "Snapshot 63,100 have redshift = [ 0.  0.]\n"
     ]
    }
   ],
   "source": [
    "# If we specify a snapshot that is out of range we can choose to either return an out of bounds value for that \n",
    "# snapshot, or return the redshift of the nearest snapshot (i.e. one of the extremes).\n",
    "print(\"Snapshots 63,100 have redshift = \"+str(SIM.redshift([63,100],excludeOutOfBounds=True)))\n",
    "print(\"Snapshot 63,100 have redshift = \"+str(SIM.redshift([63,100],excludeOutOfBounds=False)))"
   ]
  },
  {
   "cell_type": "code",
   "execution_count": 13,
   "metadata": {
    "collapsed": false
   },
   "outputs": [
    {
     "name": "stdout",
     "output_type": "stream",
     "text": [
      "The snapshot nearest in redshift to z = 1.0 is snapshot number 41\n"
     ]
    }
   ],
   "source": [
    "# Similarly we can specify a redshift to the snapshot function to find the snapshot that is nearest to our \n",
    "# specified value.\n",
    "z = 1.0\n",
    "snap = SIM.snapshot(z,return_redshift=False)\n",
    "print(\"The snapshot nearest in redshift to z = \"+str(z)+\" is snapshot number \"+str(snap))"
   ]
  },
  {
   "cell_type": "code",
   "execution_count": 14,
   "metadata": {
    "collapsed": false
   },
   "outputs": [
    {
     "name": "stdout",
     "output_type": "stream",
     "text": [
      "The snapshot nearest in redshift to z = 1.0 is snapshot number 41, with zsnap = 0.988708\n"
     ]
    }
   ],
   "source": [
    "# The return_redshift keyword can be used to additionally return the redshift of the snapshot.\n",
    "snap,zsnap = SIM.snapshot(z,return_redshift=True)\n",
    "print(\"The snapshot nearest in redshift to z = \"+str(z)+\" is snapshot number \"+str(snap)+\", with zsnap = \"+str(zsnap))"
   ]
  },
  {
   "cell_type": "code",
   "execution_count": 15,
   "metadata": {
    "collapsed": false
   },
   "outputs": [
    {
     "name": "stdout",
     "output_type": "stream",
     "text": [
      "Nearest in redshift to z = 0.5 is snapshot 48, with zsnap = 0.508591\n",
      "Nearest in redshift to z = 0.74 is snapshot 44, with zsnap = 0.755036\n",
      "Nearest in redshift to z = 1.05 is snapshot 40, with zsnap = 1.077875\n",
      "Nearest in redshift to z = 2.67 is snapshot 29, with zsnap = 2.618862\n",
      "Nearest in redshift to z = 3.99 is snapshot 24, with zsnap = 3.865683\n",
      "Nearest in redshift to z = 5.82 is snapshot 19, with zsnap = 5.723864\n"
     ]
    }
   ],
   "source": [
    "# Again, the snapshot function can accept lists/arrays of redshifts.\n",
    "z = np.array([0.5,0.74,1.05,2.67,3.99,5.82])\n",
    "snap,zsnap = SIM.snapshot(z,return_redshift=True)\n",
    "for i in range(len(z)):\n",
    "    print(\"Nearest in redshift to z = \"+str(z[i])+\" is snapshot \"+str(snap[i])+\", with zsnap = \"+str(zsnap[i]))"
   ]
  },
  {
   "cell_type": "code",
   "execution_count": 16,
   "metadata": {
    "collapsed": false
   },
   "outputs": [
    {
     "name": "stdout",
     "output_type": "stream",
     "text": [
      "Nearest in redshift to z = -1.67 is snapshot -999, with zsnap = nan\n",
      "Nearest in redshift to z = 0.5 is snapshot 48, with zsnap = 0.508591\n",
      "Nearest in redshift to z = 0.74 is snapshot 44, with zsnap = 0.755036\n",
      "Nearest in redshift to z = 1.05 is snapshot 40, with zsnap = 1.077875\n",
      "Nearest in redshift to z = 2.67 is snapshot 29, with zsnap = 2.618862\n",
      "Nearest in redshift to z = 3.99 is snapshot 24, with zsnap = 3.865683\n",
      "Nearest in redshift to z = 5.82 is snapshot 19, with zsnap = 5.723864\n",
      "Nearest in redshift to z = 10000.0 is snapshot -999, with zsnap = nan\n"
     ]
    }
   ],
   "source": [
    "# And with the snapshot function we can specify how to treat redshifts that are out of bounds...\n",
    "z = np.array([-1.67,0.5,0.74,1.05,2.67,3.99,5.82,10000.0])\n",
    "snap,zsnap = SIM.snapshot(z,return_redshift=True,excludeOutOfBounds=True)\n",
    "for i in range(len(z)):\n",
    "    print(\"Nearest in redshift to z = \"+str(z[i])+\" is snapshot \"+str(snap[i])+\", with zsnap = \"+str(zsnap[i]))"
   ]
  },
  {
   "cell_type": "code",
   "execution_count": 17,
   "metadata": {
    "collapsed": false
   },
   "outputs": [
    {
     "name": "stdout",
     "output_type": "stream",
     "text": [
      "Nearest in redshift to z = -1.67 is snapshot 63, with zsnap = 0.0\n",
      "Nearest in redshift to z = 0.5 is snapshot 48, with zsnap = 0.508591\n",
      "Nearest in redshift to z = 0.74 is snapshot 44, with zsnap = 0.755036\n",
      "Nearest in redshift to z = 1.05 is snapshot 40, with zsnap = 1.077875\n",
      "Nearest in redshift to z = 2.67 is snapshot 29, with zsnap = 2.618862\n",
      "Nearest in redshift to z = 3.99 is snapshot 24, with zsnap = 3.865683\n",
      "Nearest in redshift to z = 5.82 is snapshot 19, with zsnap = 5.723864\n",
      "Nearest in redshift to z = 10000.0 is snapshot 7, with zsnap = 15.343074\n"
     ]
    }
   ],
   "source": [
    "# Or we can set out of bounds redshifts to the appropriate extreme value\n",
    "snap,zsnap = SIM.snapshot(z,return_redshift=True,excludeOutOfBounds=False)\n",
    "for i in range(len(z)):\n",
    "    print(\"Nearest in redshift to z = \"+str(z[i])+\" is snapshot \"+str(snap[i])+\", with zsnap = \"+str(zsnap[i]))"
   ]
  },
  {
   "cell_type": "code",
   "execution_count": null,
   "metadata": {
    "collapsed": true
   },
   "outputs": [],
   "source": []
  }
 ],
 "metadata": {
  "kernelspec": {
   "display_name": "Python 2",
   "language": "python",
   "name": "python2"
  },
  "language_info": {
   "codemirror_mode": {
    "name": "ipython",
    "version": 2
   },
   "file_extension": ".py",
   "mimetype": "text/x-python",
   "name": "python",
   "nbconvert_exporter": "python",
   "pygments_lexer": "ipython2",
   "version": "2.7.11"
  }
 },
 "nbformat": 4,
 "nbformat_minor": 0
}
