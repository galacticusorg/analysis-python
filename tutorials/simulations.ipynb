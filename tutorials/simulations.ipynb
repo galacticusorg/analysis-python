{
 "cells": [
  {
   "cell_type": "markdown",
   "metadata": {},
   "source": [
    "# Working with simulations\n",
    "\n",
    "This tutorial demonstrates how to load a simulation specifications file from the Galacticus datasets and extract snapshot/redshift information. For this tutorial you will need to have the [Galacticus datasets repository](https://bitbucket.org/galacticusdev/datasets/) downloaded. \n",
    "\n",
    "Simulations specifications files are stored in the **`static/simulations`** subdirectory of the Galacticus datasets repository. For this python package to locate the datasets repository, you will need to have set an environment variable **GALACTICUS_DATASETS** with the path to the datasets repository."
   ]
  },
  {
   "cell_type": "code",
   "execution_count": 1,
   "metadata": {
    "collapsed": false
   },
   "outputs": [
    {
     "name": "stdout",
     "output_type": "stream",
     "text": [
      "The datasets are stored here: /Users/amerson/codes/Galacticus/datasets/\n"
     ]
    }
   ],
   "source": [
    "# Let's check to see where the datasets are stored.\n",
    "import os\n",
    "print(\"The datasets are stored here: \"+os.environ[\"GALACTICUS_DATASETS\"])"
   ]
  },
  {
   "cell_type": "markdown",
   "metadata": {},
   "source": [
    "To load a simulation parameter file we create an instance of the **`Simulation`** class, providing the class with the name of the simulation. This will create the class with the simulation specifications stored as attributes."
   ]
  },
  {
   "cell_type": "code",
   "execution_count": null,
   "metadata": {
    "collapsed": false
   },
   "outputs": [],
   "source": [
    "# Load the Simulation function\n",
    "from galacticus.simulations import Simulation"
   ]
  },
  {
   "cell_type": "markdown",
   "metadata": {},
   "source": [
    "In this demonstration we will load the specifications for the *Millennium Simulation*."
   ]
  },
  {
   "cell_type": "code",
   "execution_count": null,
   "metadata": {
    "collapsed": false
   },
   "outputs": [],
   "source": [
    "SIM = Simulation(\"millennium\")"
   ]
  },
  {
   "cell_type": "code",
   "execution_count": null,
   "metadata": {
    "collapsed": false
   },
   "outputs": [],
   "source": [
    "# Note we can access the specifications using the class attributes.\n",
    "print(\"OmegaM = \"+str(SIM.omega0))\n",
    "print(\"Hubble = \"+str(SIM.H0))\n",
    "print(\"h = \"+str(SIM.h0))\n",
    "print(\"Box size = \"+str(SIM.box.size)+\" \"+SIM.box.units)"
   ]
  },
  {
   "cell_type": "code",
   "execution_count": null,
   "metadata": {
    "collapsed": false
   },
   "outputs": [],
   "source": [
    "# WE can print a summary of the specifications using:\n",
    "SIM.specifications()"
   ]
  },
  {
   "cell_type": "code",
   "execution_count": null,
   "metadata": {
    "collapsed": false
   },
   "outputs": [],
   "source": [
    "# You can view all of the available attributes using:\n",
    "print(SIM.__dict__)"
   ]
  },
  {
   "cell_type": "code",
   "execution_count": null,
   "metadata": {
    "collapsed": false
   },
   "outputs": [],
   "source": [
    "# The simulation box size and particle data are stored as sub-classes. You can view the available attributes using:\n",
    "print(SIM.box.__dict__)\n",
    "print(SIM.particles.__dict__)"
   ]
  },
  {
   "cell_type": "markdown",
   "metadata": {},
   "source": [
    "The simulation box subclass additionally has a function to allow wrap around of positions (assuming that the simulation is periodic)."
   ]
  },
  {
   "cell_type": "code",
   "execution_count": null,
   "metadata": {
    "collapsed": false
   },
   "outputs": [],
   "source": [
    "import numpy as np\n",
    "x = np.random.rand(50)*SIM.box.size[0]\n",
    "y = np.random.rand(50)*SIM.box.size[1]\n",
    "z = np.random.rand(50)*SIM.box.size[2]\n",
    "# Offset z by half a box size\n",
    "z += SIM.box.size[2]/2.0\n",
    "print(\"z limits = \"+str(z.min())+\" - \"+str(z.max()))"
   ]
  },
  {
   "cell_type": "code",
   "execution_count": null,
   "metadata": {
    "collapsed": false
   },
   "outputs": [],
   "source": [
    "x,y,z = SIM.box.wrap(x,y,z)\n",
    "# Now print the new z range\n",
    "print(\"z limits = \"+str(z.min())+\" - \"+str(z.max()))"
   ]
  },
  {
   "cell_type": "markdown",
   "metadata": {},
   "source": [
    " The `Simulation` class has functions to be able to query the snapshot redshifts of the simulation, such that we can return the redshift of a given snapshot, or find the snapshot that is nearest to a user-specified redshift."
   ]
  },
  {
   "cell_type": "code",
   "execution_count": null,
   "metadata": {
    "collapsed": false
   },
   "outputs": [],
   "source": [
    "# First, let's print out what the redshifts of the snapshots.\n",
    "for i in range(len(SIM.snapshots.z)):\n",
    "    print(\"Snapshot \"+str(SIM.snapshots.index[i])+\" --> z = \"+str(SIM.snapshots.z[i]))"
   ]
  },
  {
   "cell_type": "code",
   "execution_count": null,
   "metadata": {
    "collapsed": false
   },
   "outputs": [],
   "source": [
    "# Now let's use the redshift function to return the redshift of a given snapshot.\n",
    "print(\"Snapshot 60 has redshift = \"+str(SIM.redshift(60)))\n",
    "print(\"Snapshots 32,48,60 have redshift = \"+str(SIM.redshift([32,48,60])))"
   ]
  },
  {
   "cell_type": "code",
   "execution_count": null,
   "metadata": {
    "collapsed": false
   },
   "outputs": [],
   "source": [
    "# If we specify a snapshot that is out of range we can choose to either return an out of bounds value for that \n",
    "# snapshot, or return the redshift of the nearest snapshot (i.e. one of the extremes).\n",
    "print(\"Snapshots 63,100 have redshift = \"+str(SIM.redshift([63,100],excludeOutOfBounds=True)))\n",
    "print(\"Snapshot 63,100 have redshift = \"+str(SIM.redshift([63,100],excludeOutOfBounds=False)))"
   ]
  },
  {
   "cell_type": "code",
   "execution_count": null,
   "metadata": {
    "collapsed": false
   },
   "outputs": [],
   "source": [
    "# Similarly we can specify a redshift to the snapshot function to find the snapshot that is nearest to our \n",
    "# specified value.\n",
    "z = 1.0\n",
    "snap = SIM.snapshot(z,return_redshift=False)\n",
    "print(\"The snapshot nearest in redshift to z = \"+str(z)+\" is snapshot number \"+str(snap))"
   ]
  },
  {
   "cell_type": "code",
   "execution_count": null,
   "metadata": {
    "collapsed": false
   },
   "outputs": [],
   "source": [
    "# The return_redshift keyword can be used to additionally return the redshift of the snapshot.\n",
    "snap,zsnap = SIM.snapshot(z,return_redshift=True)\n",
    "print(\"The snapshot nearest in redshift to z = \"+str(z)+\" is snapshot number \"+str(snap)+\", with zsnap = \"+str(zsnap))"
   ]
  },
  {
   "cell_type": "code",
   "execution_count": null,
   "metadata": {
    "collapsed": false
   },
   "outputs": [],
   "source": [
    "# Again, the snapshot function can accept lists/arrays of redshifts.\n",
    "z = np.array([0.5,0.74,1.05,2.67,3.99,5.82])\n",
    "snap,zsnap = SIM.snapshot(z,return_redshift=True)\n",
    "for i in range(len(z)):\n",
    "    print(\"Nearest in redshift to z = \"+str(z[i])+\" is snapshot \"+str(snap[i])+\", with zsnap = \"+str(zsnap[i]))"
   ]
  },
  {
   "cell_type": "code",
   "execution_count": null,
   "metadata": {
    "collapsed": false
   },
   "outputs": [],
   "source": [
    "# And with the snapshot function we can specify how to treat redshifts that are out of bounds...\n",
    "z = np.array([-1.67,0.5,0.74,1.05,2.67,3.99,5.82,10000.0])\n",
    "snap,zsnap = SIM.snapshot(z,return_redshift=True,excludeOutOfBounds=True)\n",
    "for i in range(len(z)):\n",
    "    print(\"Nearest in redshift to z = \"+str(z[i])+\" is snapshot \"+str(snap[i])+\", with zsnap = \"+str(zsnap[i]))"
   ]
  },
  {
   "cell_type": "code",
   "execution_count": null,
   "metadata": {
    "collapsed": false
   },
   "outputs": [],
   "source": [
    "# Or we can set out of bounds redshifts to the appropriate extreme value\n",
    "snap,zsnap = SIM.snapshot(z,return_redshift=True,excludeOutOfBounds=False)\n",
    "for i in range(len(z)):\n",
    "    print(\"Nearest in redshift to z = \"+str(z[i])+\" is snapshot \"+str(snap[i])+\", with zsnap = \"+str(zsnap[i]))"
   ]
  },
  {
   "cell_type": "code",
   "execution_count": null,
   "metadata": {
    "collapsed": true
   },
   "outputs": [],
   "source": []
  }
 ],
 "metadata": {
  "kernelspec": {
   "display_name": "Python 2",
   "language": "python",
   "name": "python2"
  },
  "language_info": {
   "codemirror_mode": {
    "name": "ipython",
    "version": 2
   },
   "file_extension": ".py",
   "mimetype": "text/x-python",
   "name": "python",
   "nbconvert_exporter": "python",
   "pygments_lexer": "ipython2",
   "version": "2.7.11"
  }
 },
 "nbformat": 4,
 "nbformat_minor": 0
}
